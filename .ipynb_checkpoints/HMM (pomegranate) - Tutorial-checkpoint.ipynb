{
 "cells": [
  {
   "cell_type": "code",
   "execution_count": 21,
   "metadata": {
    "collapsed": true
   },
   "outputs": [],
   "source": [
    "%matplotlib inline\n",
    "from pomegranate import *\n",
    "import matplotlib.pyplot as plt\n",
    "import numpy as np\n",
    "import copy"
   ]
  },
  {
   "cell_type": "code",
   "execution_count": 29,
   "metadata": {
    "collapsed": false
   },
   "outputs": [
    {
     "name": "stdout",
     "output_type": "stream",
     "text": [
      "sequence: CGACTACTGACTACTCGCCGACGCGACTGCCGTCTATACTGCGCATACGGC\n",
      "hmm pred: 001011010101101000001000010100001011110100001110000\n"
     ]
    }
   ],
   "source": [
    "\"\"\"-> Znajdywanie wysp CG, wysp które składają się głównie z C i G.\n",
    "   -> Są dwa stany \"background\" i \"island.\n",
    "   -> Są cztery obserwacje: A, C, G i T.\n",
    "   -> d1 i d2 opisują dyskretny rozkład prawdopodobieństwa obserwacji\n",
    "   dla stanów s1 i s2.\n",
    "   -> Początkowe prawdopodobieństwo dla obu stanów jest równe 0.5\n",
    "   -> Prawdopodobieństwo przejścia pomiędzy dowolnymi stanami jest 0.5.\n",
    "   -> Wartość 1 oznacza background, a wartość 1 oznacza wyspę.\"\"\"\n",
    "\n",
    "seq = list('CGACTACTGACTACTCGCCGACGCGACTGCCGTCTATACTGCGCATACGGC')\n",
    "\n",
    "d1 = DiscreteDistribution({'A': 0.25, 'C': 0.25, 'G': 0.25, 'T': 0.25})\n",
    "d2 = DiscreteDistribution({'A': 0.10, 'C': 0.40, 'G': 0.40, 'T': 0.10})\n",
    "\n",
    "s1 = State( d1, name='background' )\n",
    "s2 = State( d2, name='island' )\n",
    "\n",
    "hmm = HiddenMarkovModel()\n",
    "hmm.add_states(s1, s2)\n",
    "hmm.add_transition( hmm.start, s1, 0.5 )\n",
    "hmm.add_transition( hmm.start, s2, 0.5 )\n",
    "hmm.add_transition( s1, s1, 0.5 )\n",
    "hmm.add_transition( s1, s2, 0.5 )\n",
    "hmm.add_transition( s2, s1, 0.5 )\n",
    "hmm.add_transition( s2, s2, 0.5 )\n",
    "hmm.bake()\n",
    "\n",
    "hmm_predictions = hmm.predict( seq )\n",
    "print \"sequence: {}\".format( ''.join( seq ) )\n",
    "print \"hmm pred: {}\".format( ''.join( map( str, hmm_predictions ) ) )\n"
   ]
  },
  {
   "cell_type": "code",
   "execution_count": 14,
   "metadata": {
    "collapsed": false
   },
   "outputs": [
    {
     "name": "stdout",
     "output_type": "stream",
     "text": [
      "sequence: CGACTACTGACTACTCGCCGACGCGACTGCCGTCTATACTGCGCATACGGC\n",
      "hmm pred: 111111111111111000000000000000011111111111111110000\n"
     ]
    }
   ],
   "source": [
    "\"\"\"-> Zmienione prawdopodobieństwo przejścia pomiędzy stanami.\n",
    "      Teraz zmiana stanu na inny jest mało prawdopodobna.\"\"\"\n",
    "hmm = HiddenMarkovModel()\n",
    "hmm.add_states(s1, s2)\n",
    "hmm.add_transition( hmm.start, s1, 0.5 )\n",
    "hmm.add_transition( hmm.start, s2, 0.5 )\n",
    "hmm.add_transition( s1, s1, 0.9 )\n",
    "hmm.add_transition( s1, s2, 0.1 )\n",
    "hmm.add_transition( s2, s1, 0.1 )\n",
    "hmm.add_transition( s2, s2, 0.9 )\n",
    "hmm.bake()\n",
    "\n",
    "hmm_predictions = hmm.predict( seq )\n",
    "print \"sequence: {}\".format( ''.join( seq ) )\n",
    "print \"hmm pred: {}\".format( ''.join( map( str, hmm_predictions ) ) )"
   ]
  },
  {
   "cell_type": "code",
   "execution_count": 15,
   "metadata": {
    "collapsed": false
   },
   "outputs": [
    {
     "name": "stdout",
     "output_type": "stream",
     "text": [
      "sequence: CGACTACTGACTACTCGCCGACGCGACTGCCGTCTATACTGCGCATACGGC\n",
      "hmm pred: 111111111111111000000000000000011111111111111111111\n"
     ]
    }
   ],
   "source": [
    "\"\"\"-> Dodany stan końcowy, do którego można dotrzeć tylko z s1.\"\"\"\n",
    "\n",
    "hmm = HiddenMarkovModel()\n",
    "hmm.add_states(s1, s2)\n",
    "hmm.add_transition( hmm.start, s1, 0.5 )\n",
    "hmm.add_transition( hmm.start, s2, 0.5 )\n",
    "hmm.add_transition( s1, s1, 0.89 )\n",
    "hmm.add_transition( s1, s2, 0.10 )\n",
    "hmm.add_transition( s1, hmm.end, 0.01 )\n",
    "hmm.add_transition( s2, s1, 0.1 )\n",
    "hmm.add_transition( s2, s2, 0.9 )\n",
    "hmm.bake()\n",
    "\n",
    "hmm_predictions = hmm.predict( seq )\n",
    "print \"sequence: {}\".format( ''.join( seq ) )\n",
    "print \"hmm pred: {}\".format( ''.join( map( str, hmm_predictions ) ) )"
   ]
  },
  {
   "cell_type": "code",
   "execution_count": null,
   "metadata": {
    "collapsed": true
   },
   "outputs": [],
   "source": [
    "\"\"\"-> Obliczone prawdopodobieństwa dla każdej z obserwacji w każdym\n",
    "      ze stanow.\"\"\"\n",
    "\n",
    "print hmm.predict_proba( seq )"
   ]
  },
  {
   "cell_type": "code",
   "execution_count": 16,
   "metadata": {
    "collapsed": false
   },
   "outputs": [
    {
     "name": "stdout",
     "output_type": "stream",
     "text": [
      "sequence: CGACTACTGACTACTCGCCGACGCGACTGCCGTCTATACTGCGCATACGGC\n",
      "hmm pred: 111111111111111111111111111111111111111111111111111\n"
     ]
    }
   ],
   "source": [
    "\"\"\"-> Standardowa implementacja hmm.predict używa forward-backward \n",
    "      w połączeniu z maximum a posteriori do dekodowania.\n",
    "   -> Poniżej próba z użyciem algorytmu Viterbi.\"\"\"\n",
    "\n",
    "hmm_predictions = hmm.predict( seq, algorithm='viterbi' )[1:-1]\n",
    "\n",
    "print \"sequence: {}\".format( ''.join( seq ) )\n",
    "print \"hmm pred: {}\".format( ''.join( map( str, hmm_predictions ) ) )"
   ]
  },
  {
   "cell_type": "code",
   "execution_count": 8,
   "metadata": {
    "collapsed": false
   },
   "outputs": [
    {
     "name": "stdout",
     "output_type": "stream",
     "text": [
      "ACT\n",
      "A--\n",
      "Sequence: 'A'  -- Log Probability: -5.40618101242 -- Path: M1 D2 D3\n",
      "-ACT\n",
      "GA--\n",
      "Sequence: 'GA'  -- Log Probability: -10.8868199358 -- Path: I0 M1 D2 D3\n",
      "ACT\n",
      "AC-\n",
      "Sequence: 'AC'  -- Log Probability: -3.62447187905 -- Path: M1 M2 D3\n",
      "ACT\n",
      "A-T\n",
      "Sequence: 'AT'  -- Log Probability: -3.64488075068 -- Path: M1 D2 M3\n",
      "ACT--\n",
      "A-TCC\n",
      "Sequence: 'ATCC'  -- Log Probability: -10.6743329646 -- Path: M1 D2 M3 I3 I3\n",
      "AC---T\n",
      "ACGTG-\n",
      "Sequence: 'ACGTG'  -- Log Probability: -10.3938248352 -- Path: M1 M2 I2 I2 I2 D3\n",
      "A--CT\n",
      "ATT-T\n",
      "Sequence: 'ATTT'  -- Log Probability: -8.67126440175 -- Path: M1 I1 I1 D2 M3\n",
      "----ACT-\n",
      "TACC-CTC\n",
      "Sequence: 'TACCCTC'  -- Log Probability: -16.9034517961 -- Path: I0 I0 I0 I0 D1 M2 M3 I3\n",
      "-------ACT\n",
      "TGTCAACACT\n",
      "Sequence: 'TGTCAACACT'  -- Log Probability: -16.4516996541 -- Path: I0 I0 I0 I0 I0 I0 I0 M1 M2 M3\n"
     ]
    }
   ],
   "source": [
    "\"\"\"-> odnajdowanie sekwencji.\n",
    "      w poniższym przykładzie szukamy sekwencji ACT.\n",
    "   -> Są trzy stany odpowiedzialne za kolejno: A, C, T.\n",
    "      Dla tych samych prawdopodobieństwo emisji odpowiednich stanów\n",
    "      jest bardzo duże.\n",
    "   -> Są dodatkowe \"insert states\", które pozwalają zapewnić\n",
    "      inserty w sekwencji (niepasujące elementy w środku).\n",
    "      Inserty mogą wygenerować dowolną obserwację równym\n",
    "      prawdopodobieństwe. Inserty mogą być na początku, na końcu lub\n",
    "      w środku.\n",
    "   -> Dodatkowo są też \"delete states\" opisujące brak jakiegoś\n",
    "      elementu sekwencji. Delete states nie generują żadnej obserwacji.\n",
    "      \"\"\"\n",
    "\n",
    "model = HiddenMarkovModel( \"Global Alignment\")\n",
    "\n",
    "# Define the distribution for insertions\n",
    "i_d = DiscreteDistribution( { 'A': 0.25, 'C': 0.25, 'G': 0.25, 'T': 0.25 } )\n",
    "\n",
    "# Create the insert states\n",
    "i0 = State( i_d, name=\"I0\" )\n",
    "i1 = State( i_d, name=\"I1\" )\n",
    "i2 = State( i_d, name=\"I2\" )\n",
    "i3 = State( i_d, name=\"I3\" )\n",
    "\n",
    "# Create the match states\n",
    "m1 = State( DiscreteDistribution({ \"A\": 0.95, 'C': 0.01, 'G': 0.01, 'T': 0.02 }) , name=\"M1\" )\n",
    "m2 = State( DiscreteDistribution({ \"A\": 0.003, 'C': 0.99, 'G': 0.003, 'T': 0.004 }) , name=\"M2\" )\n",
    "m3 = State( DiscreteDistribution({ \"A\": 0.01, 'C': 0.01, 'G': 0.01, 'T': 0.97 }) , name=\"M3\" )\n",
    "\n",
    "# Create the delete states\n",
    "d1 = State( None, name=\"D1\" )\n",
    "d2 = State( None, name=\"D2\" )\n",
    "d3 = State( None, name=\"D3\" )\n",
    "\n",
    "# Add all the states to the model\n",
    "model.add_states( [i0, i1, i2, i3, m1, m2, m3, d1, d2, d3 ] )\n",
    "\n",
    "\n",
    "# Create transitions from match states\n",
    "model.add_transition( model.start, m1, 0.9 )\n",
    "model.add_transition( model.start, i0, 0.1 )\n",
    "model.add_transition( m1, m2, 0.9 )\n",
    "model.add_transition( m1, i1, 0.05 )\n",
    "model.add_transition( m1, d2, 0.05 )\n",
    "model.add_transition( m2, m3, 0.9 )\n",
    "model.add_transition( m2, i2, 0.05 )\n",
    "model.add_transition( m2, d3, 0.05 )\n",
    "model.add_transition( m3, model.end, 0.9 )\n",
    "model.add_transition( m3, i3, 0.1 )\n",
    "\n",
    "\n",
    "# Create transitions from insert states\n",
    "model.add_transition( i0, i0, 0.70 )\n",
    "model.add_transition( i0, d1, 0.15 )\n",
    "model.add_transition( i0, m1, 0.15 )\n",
    "\n",
    "model.add_transition( i1, i1, 0.70 )\n",
    "model.add_transition( i1, d2, 0.15 )\n",
    "model.add_transition( i1, m2, 0.15 )\n",
    "\n",
    "model.add_transition( i2, i2, 0.70 )\n",
    "model.add_transition( i2, d3, 0.15 )\n",
    "model.add_transition( i2, m3, 0.15 )\n",
    "\n",
    "model.add_transition( i3, i3, 0.85 )\n",
    "model.add_transition( i3, model.end, 0.15 )\n",
    "\n",
    "# Create transitions from delete states\n",
    "model.add_transition( d1, d2, 0.15 )\n",
    "model.add_transition( d1, i1, 0.15 )\n",
    "model.add_transition( d1, m2, 0.70 ) \n",
    "\n",
    "model.add_transition( d2, d3, 0.15 )\n",
    "model.add_transition( d2, i2, 0.15 )\n",
    "model.add_transition( d2, m3, 0.70 )\n",
    "\n",
    "model.add_transition( d3, i3, 0.30 )\n",
    "model.add_transition( d3, model.end, 0.70 )\n",
    "\n",
    "# Call bake to finalize the structure of the model.\n",
    "model.bake()\n",
    "\n",
    "def path_to_alignment(x, y, path):\n",
    "    for i, (index, state) in enumerate(path[1:-1]):\n",
    "        if state.name.startswith('D'):\n",
    "            y = y[:i] + '-' + y[i:]\n",
    "        elif state.name.startswith('I'):\n",
    "            x = x[:i] + '-' + x[i:]\n",
    "    return x, y\n",
    "\n",
    "for sequence in map( list, ('A', 'GA', 'AC', 'AT', 'ATCC', 'ACGTG', 'ATTT', 'TACCCTC', 'TGTCAACACT') ):\n",
    "    logp, path = model.viterbi( sequence )\n",
    "    print \"\\n\".join(path_to_alignment('ACT', ''.join(sequence), path))\n",
    "    print \"Sequence: '{}'  -- Log Probability: {} -- Path: {}\".format(\n",
    "        ''.join( sequence ), logp, \" \".join( state.name for idx, state in path[1:-1] ) )"
   ]
  },
  {
   "cell_type": "code",
   "execution_count": 9,
   "metadata": {
    "collapsed": false,
    "scrolled": true
   },
   "outputs": [
    {
     "data": {
      "image/png": "[encoded data removed]",
      "text/plain": [
       "<matplotlib.figure.Figure at 0x7f4b44bd8590>"
      ]
     },
     "metadata": {},
     "output_type": "display_data"
    }
   ],
   "source": [
    "sequences = reduce( lambda x, y: x+y, [[ seq for seq in it.product( 'ACGT', repeat=i ) ] for i in xrange( 1,6 )] )\n",
    "scores = map( model.log_probability, sequences )\n",
    "\n",
    "import itertools\n",
    "import seaborn as sns\n",
    "plt.figure( figsize=(10,5) )\n",
    "sns.kdeplot( numpy.array( scores ), shade=True )\n",
    "plt.ylabel('Density')\n",
    "plt.xlabel('Log Probability')\n",
    "plt.show()"
   ]
  },
  {
   "cell_type": "code",
   "execution_count": 11,
   "metadata": {
    "collapsed": false
   },
   "outputs": [
    {
     "data": {
      "image/png": "[encoded data removed]",
      "text/plain": [
       "<matplotlib.figure.Figure at 0x7f4b3eb39c10>"
      ]
     },
     "metadata": {},
     "output_type": "display_data"
    }
   ],
   "source": [
    "d1 = NormalDistribution( 0, 1 )\n",
    "d2 = NormalDistribution( 4, 1 )\n",
    "plt.figure( figsize=(10,6) )\n",
    "d1.plot( n=10000, edgecolor='c', facecolor='c', alpha=0.3, bins=25 )\n",
    "d2.plot( n=10000, edgecolor='r', facecolor='r', alpha=0.3, bins=25 )"
   ]
  },
  {
   "cell_type": "code",
   "execution_count": 20,
   "metadata": {
    "collapsed": false
   },
   "outputs": [
    {
     "name": "stdout",
     "output_type": "stream",
     "text": [
      "-2.26640746688\n",
      "-3.45194345738\n",
      "==================================================\n",
      "training\n",
      "==================================================\n",
      "-1.38629436112\n",
      "-122.281510582\n"
     ]
    }
   ],
   "source": [
    "d1 = DiscreteDistribution({'A' : 0.8, 'B' : 0.2})\n",
    "d2 = DiscreteDistribution({'A' : 0.2, 'B' : 0.8})\n",
    "\n",
    "s1 = State(d1, name=\"NotTied1\" )\n",
    "s2 = State(d2, name=\"NotTied2\" )\n",
    "\n",
    "model = HiddenMarkovModel()\n",
    "model.add_states( [s1, s2] )\n",
    "\n",
    "model.add_transition( model.start, s1, 0.5 )\n",
    "model.add_transition( model.start, s2, 0.5 )\n",
    "\n",
    "model.add_transition( s1, s1, 0.9 )\n",
    "model.add_transition( s1, s2, 0.1 )\n",
    "model.add_transition( s2, s1, 0.1 )\n",
    "model.add_transition( s2, s2, 0.9 )\n",
    "model.bake()\n",
    "\n",
    "\n",
    "corpus_good = [['A','A'],['B','B']]\n",
    "print sum([model.log_probability(x) for x in corpus_good])\n",
    "\n",
    "corpus_bad = [['A', 'B'],['B', 'A']]\n",
    "print sum([model.log_probability(x) for x in corpus_bad])\n",
    "\n",
    "print \"=\"*50\n",
    "model.train(copy.copy(corpus_good), verbose=False)\n",
    "print \"training\"\n",
    "print \"=\"*50\n",
    "\n",
    "corpus_good = [['A','A'],['B','B']]\n",
    "print sum([model.log_probability(x) for x in corpus_good])\n",
    "\n",
    "corpus_bad = [['A', 'B'],['B', 'A']]\n",
    "print sum([model.log_probability(x) for x in corpus_bad])"
   ]
  },
  {
   "cell_type": "code",
   "execution_count": 46,
   "metadata": {
    "collapsed": false
   },
   "outputs": [
    {
     "name": "stdout",
     "output_type": "stream",
     "text": [
      "-9.92980461234\n",
      "-9.90887709223\n",
      "==================================================\n",
      "Training improvement: 9.08547455258\n",
      "Training improvement: 4.72290179426\n",
      "Training improvement: 3.21294023946\n",
      "Training improvement: 1.77420578975\n",
      "Training improvement: 0.816339667767\n",
      "Training improvement: 0.362947634805\n",
      "Training improvement: 0.170482139785\n",
      "Training improvement: 0.0877473458804\n",
      "Training improvement: 0.0500712675949\n",
      "Training improvement: 0.0315347572964\n",
      "Training improvement: 0.021595960397\n",
      "Training improvement: 0.0157883388546\n",
      "Training improvement: 0.0121170845838\n",
      "Training improvement: 0.00963554789663\n",
      "Training improvement: 0.0078639112217\n",
      "Training improvement: 0.00654233826782\n",
      "Training improvement: 0.00552123733415\n",
      "Training improvement: 0.004709782841\n",
      "Training improvement: 0.00405028760196\n",
      "Training improvement: 0.00350466363799\n",
      "Training improvement: 0.0030468770281\n",
      "Training improvement: 0.00265855334006\n",
      "Training improvement: 0.00232632700531\n",
      "Training improvement: 0.00204019734747\n",
      "Training improvement: 0.00179248472627\n",
      "Training improvement: 0.00157715338885\n",
      "Training improvement: 0.00138936287686\n",
      "Training improvement: 0.00122516434581\n",
      "Training improvement: 0.00108129026898\n",
      "Training improvement: 0.000955005327725\n",
      "Training improvement: 0.000843998110069\n",
      "Training improvement: 0.000746300555848\n",
      "Training improvement: 0.00066022666506\n",
      "Training improvement: 0.000584324877444\n",
      "Training improvement: 0.000517340376717\n",
      "Training improvement: 0.000458184762543\n",
      "Training improvement: 0.000405911311066\n",
      "Training improvement: 0.000359694558629\n",
      "Training improvement: 0.000318813289939\n",
      "Training improvement: 0.000282636248928\n",
      "Training improvement: 0.000250610056231\n",
      "Training improvement: 0.000222248934961\n",
      "Training improvement: 0.000197125932825\n",
      "Training improvement: 0.000174865391847\n",
      "Training improvement: 0.000155136465821\n",
      "Training improvement: 0.000137647522109\n",
      "Training improvement: 0.000122141294227\n",
      "Training improvement: 0.000108390673825\n",
      "Training improvement: 9.61950500908e-05\n",
      "Training improvement: 8.53771187437e-05\n",
      "Training improvement: 7.5780095397e-05\n",
      "Training improvement: 6.72652782114e-05\n",
      "Training improvement: 5.97099126818e-05\n",
      "Training improvement: 5.30053187635e-05\n",
      "Training improvement: 4.7055245922e-05\n",
      "Training improvement: 4.17744268653e-05\n",
      "Training improvement: 3.70873046691e-05\n",
      "Training improvement: 3.29269114054e-05\n",
      "Training improvement: 2.92338795038e-05\n",
      "Training improvement: 2.59555694679e-05\n",
      "Training improvement: 2.30452996668e-05\n",
      "Training improvement: 2.04616659474e-05\n",
      "Training improvement: 1.81679402012e-05\n",
      "Training improvement: 1.61315384393e-05\n",
      "Training improvement: 1.43235502268e-05\n",
      "Training improvement: 1.27183221377e-05\n",
      "Training improvement: 1.12930889404e-05\n",
      "Training improvement: 1.00276469706e-05\n",
      "Training improvement: 8.90406472287e-06\n",
      "Training improvement: 7.90642636872e-06\n",
      "Training improvement: 7.02060450308e-06\n",
      "Training improvement: 6.23405855116e-06\n",
      "Training improvement: 5.53565611483e-06\n",
      "Training improvement: 4.91551447546e-06\n",
      "Training improvement: 4.36486002009e-06\n",
      "Training improvement: 3.8759035661e-06\n",
      "Training improvement: 3.44172971367e-06\n",
      "Training improvement: 3.05619868968e-06\n",
      "Training improvement: 2.71385926354e-06\n",
      "Training improvement: 2.40987139755e-06\n",
      "Training improvement: 2.13993770259e-06\n",
      "Training improvement: 1.90024253399e-06\n",
      "Training improvement: 1.68739789785e-06\n",
      "Training improvement: 1.49839556229e-06\n",
      "Training improvement: 1.33056438756e-06\n",
      "Training improvement: 1.18153261575e-06\n",
      "Training improvement: 1.04919420885e-06\n",
      "Training improvement: 9.31679128513e-07\n",
      "Training improvement: 8.27326868347e-07\n",
      "Training improvement: 7.34662949142e-07\n",
      "Training improvement: 6.52378085775e-07\n",
      "Training improvement: 5.79309679338e-07\n",
      "Training improvement: 5.14425366305e-07\n",
      "Training improvement: 4.56808455951e-07\n",
      "Training improvement: 4.05644890122e-07\n",
      "Training improvement: 3.60211869221e-07\n",
      "Training improvement: 3.19867512033e-07\n",
      "Training improvement: 2.84041856702e-07\n",
      "Training improvement: 2.52228776532e-07\n",
      "Training improvement: 2.23978846137e-07\n",
      "Training improvement: 1.98892971426e-07\n",
      "Training improvement: 1.7661676921e-07\n",
      "Training improvement: 1.5683554011e-07\n",
      "Training improvement: 1.39269840105e-07\n",
      "Training improvement: 1.236715228e-07\n",
      "Training improvement: 1.09820232908e-07\n",
      "Training improvement: 9.75203171549e-08\n",
      "Training improvement: 8.65979963294e-08\n",
      "Training improvement: 7.68989796285e-08\n",
      "Training improvement: 6.82862673074e-08\n",
      "Training improvement: 6.06381806989e-08\n",
      "Training improvement: 5.38466871092e-08\n",
      "Training improvement: 4.78158419526e-08\n",
      "Training improvement: 4.24604635896e-08\n",
      "Training improvement: 3.77048792188e-08\n",
      "Training improvement: 3.34819247882e-08\n",
      "Training improvement: 2.97319484588e-08\n",
      "Training improvement: 2.64019632823e-08\n",
      "Training improvement: 2.34449384351e-08\n",
      "Training improvement: 2.08191046625e-08\n",
      "Training improvement: 1.84873574227e-08\n",
      "Training improvement: 1.64167790473e-08\n",
      "Training improvement: 1.45780969518e-08\n",
      "Training improvement: 1.2945344352e-08\n",
      "Training improvement: 1.14954712416e-08\n",
      "Training improvement: 1.02079713571e-08\n",
      "Training improvement: 9.0646814499e-09\n",
      "Training improvement: 8.04944022548e-09\n",
      "Training improvement: 7.14789649692e-09\n",
      "Training improvement: 6.34733687832e-09\n",
      "Training improvement: 5.63643176577e-09\n",
      "Training improvement: 5.00515184854e-09\n",
      "Training improvement: 4.44457626259e-09\n",
      "Training improvement: 3.94678068005e-09\n",
      "Training improvement: 3.50474493871e-09\n",
      "Training improvement: 3.11221270977e-09\n",
      "Training improvement: 2.76363998353e-09\n",
      "Training improvement: 2.45411335698e-09\n",
      "Training improvement: 2.17925588686e-09\n",
      "Training improvement: 1.93518090441e-09\n",
      "Training improvement: 1.71843339558e-09\n",
      "Training improvement: 1.52597756653e-09\n",
      "Training improvement: 1.35506361687e-09\n",
      "Training improvement: 1.20329524123e-09\n",
      "Training improvement: 1.06852660053e-09\n",
      "Training improvement: 9.4885521662e-10\n",
      "Total Training Improvement: 20.4314693665\n",
      "training\n",
      "==================================================\n",
      "-3.8107517736\n",
      "-545.089366551\n"
     ]
    },
    {
     "data": {
      "text/plain": [
       "-2.2519494963931788"
      ]
     },
     "execution_count": 46,
     "metadata": {},
     "output_type": "execute_result"
    }
   ],
   "source": [
    "d1 = DiscreteDistribution({'A' : 0.8, 'B' : 0.1, 'C' : 0.1})\n",
    "d2 = DiscreteDistribution({'A' : 0.1, 'B' : 0.8, 'C' : 0.1})\n",
    "d3 = DiscreteDistribution({'A' : 0.1, 'B' : 0.1, 'C' : 0.8})\n",
    "\n",
    "s1 = State(d1, name=\"S1\" )\n",
    "s2 = State(d2, name=\"S2\" )\n",
    "s3 = State(d3, name=\"S3\" )\n",
    "\n",
    "model = HiddenMarkovModel()\n",
    "model.add_states( [s1, s2, s3] )\n",
    "\n",
    "model.add_transition( model.start, s1, 0.33 )\n",
    "model.add_transition( model.start, s2, 0.33 )\n",
    "model.add_transition( model.start, s3, 0.34 )\n",
    "\n",
    "model.add_transition( s1, s1, 0.33 )\n",
    "model.add_transition( s1, s2, 0.33 )\n",
    "model.add_transition( s1, s3, 0.34 )\n",
    "\n",
    "model.add_transition( s2, s1, 0.33 )\n",
    "model.add_transition( s2, s2, 0.33 )\n",
    "model.add_transition( s2, s3, 0.34 )\n",
    "\n",
    "model.add_transition( s3, s1, 0.33 )\n",
    "model.add_transition( s3, s2, 0.33 )\n",
    "model.add_transition( s3, s3, 0.34 )\n",
    "model.bake()\n",
    "\n",
    "\n",
    "corpus_train = [['A','A','A'],['A','B','B'],['A','B','C'],['A','B','C','C'],\n",
    "                ['A','A','B'],['A','B','B','C'],['A','A','B','C'],['A','B','B','B'],\n",
    "                ['A','A','B','B']]\n",
    "\n",
    "corpus_good = [['A','A','B'],['A','B','C'],['A','B','B']]\n",
    "print sum([model.log_probability(x) for x in corpus_good])\n",
    "\n",
    "corpus_bad = [['B','A','A'],['B','A','C'],['C','B','A']]\n",
    "print sum([model.log_probability(x) for x in corpus_bad])\n",
    "\n",
    "print \"=\"*50\n",
    "model.train(copy.copy(corpus_train), distribution_inertia=0.3, edge_inertia=0.25)\n",
    "print \"training\"\n",
    "print \"=\"*50\n",
    "\n",
    "\n",
    "corpus_good = [['A','A','B'],['A','B','C'],['A','B','B']]\n",
    "print sum([model.log_probability(x) for x in corpus_good])\n",
    "\n",
    "corpus_bad = [['B','A','A'],['B','A','C'],['C','B','A']]\n",
    "print sum([model.log_probability(x) for x in corpus_bad])\n",
    "\n",
    "model.log_probability(['A','A','B','C','C','C'])"
   ]
  },
  {
   "cell_type": "code",
   "execution_count": 64,
   "metadata": {
    "collapsed": false
   },
   "outputs": [
    {
     "data": {
      "image/png": "[encoded data removed]",
      "text/plain": [
       "<matplotlib.figure.Figure at 0x7f252c6956d0>"
      ]
     },
     "metadata": {},
     "output_type": "display_data"
    }
   ],
   "source": [
    "d1 = NormalDistribution( 0, 2 )\n",
    "d2 = NormalDistribution( 5, 2 )\n",
    "d3 = NormalDistribution( 10, 2 )\n",
    "\n",
    "plt.figure( figsize=(10,6) )\n",
    "d1.plot( n=10000, edgecolor='c', facecolor='c', alpha=0.3, bins=25 )\n",
    "d2.plot( n=10000, edgecolor='r', facecolor='r', alpha=0.3, bins=25 )\n",
    "d3.plot( n=10000, edgecolor='g', facecolor='g', alpha=0.3, bins=25 )"
   ]
  },
  {
   "cell_type": "code",
   "execution_count": 109,
   "metadata": {
    "collapsed": false
   },
   "outputs": [
    {
     "name": "stdout",
     "output_type": "stream",
     "text": [
      "-16.2718037221\n",
      "-7.98746419345\n",
      "==================================================\n",
      "training\n",
      "==================================================\n",
      "-10.7376276926\n",
      "-23.0800194674\n"
     ]
    }
   ],
   "source": [
    "d1 = NormalDistribution( 0, 2 )\n",
    "d2 = NormalDistribution( 5, 2 )\n",
    "d3 = NormalDistribution( 10, 2 )\n",
    "\n",
    "s1 = State(d1, name=\"S1\" )\n",
    "s2 = State(d2, name=\"S2\" )\n",
    "s3 = State(d3, name=\"S3\" )\n",
    "\n",
    "model = HiddenMarkovModel()\n",
    "model.add_states( [s1, s2, s3] )\n",
    "\n",
    "model.add_transition( model.start, s1, 0.33 )\n",
    "model.add_transition( model.start, s2, 0.33 )\n",
    "model.add_transition( model.start, s3, 0.34 )\n",
    "\n",
    "model.add_transition( s1, s1, 0.33 )\n",
    "model.add_transition( s1, s2, 0.33 )\n",
    "model.add_transition( s1, s3, 0.34 )\n",
    "\n",
    "model.add_transition( s2, s1, 0.33 )\n",
    "model.add_transition( s2, s2, 0.33 )\n",
    "model.add_transition( s2, s3, 0.34 )\n",
    "\n",
    "model.add_transition( s3, s1, 0.33 )\n",
    "model.add_transition( s3, s2, 0.33 )\n",
    "model.add_transition( s3, s3, 0.34 )\n",
    "model.bake()\n",
    "\n",
    "\n",
    "\n",
    "corpus_good = [[1,5,10], [1,2,3]]\n",
    "corpus_bad = [[10,5,1]]\n",
    "print sum([model.log_probability(x) for x in corpus_good])\n",
    "print sum([model.log_probability(x) for x in corpus_bad])\n",
    "\n",
    "print \"=\"*50\n",
    "corpus_train = []\n",
    "for _ in xrange(100):\n",
    "    corpus_train.append(sorted(random.sample(range(0, 11), random.randint(2,10))))\n",
    "model.train(corpus_train, verbose=False)\n",
    "print \"training\"\n",
    "print \"=\"*50\n",
    "\n",
    "print sum([model.log_probability(x) for x in corpus_good])\n",
    "print sum([model.log_probability(x) for x in corpus_bad])\n"
   ]
  },
  {
   "cell_type": "code",
   "execution_count": 95,
   "metadata": {
    "collapsed": false
   },
   "outputs": [
    {
     "name": "stdout",
     "output_type": "stream",
     "text": [
      "-13.7660155501\n"
     ]
    }
   ],
   "source": []
  },
  {
   "cell_type": "code",
   "execution_count": null,
   "metadata": {
    "collapsed": true
   },
   "outputs": [],
   "source": []
  }
 ],
 "metadata": {
  "kernelspec": {
   "display_name": "Python 2",
   "language": "python",
   "name": "python2"
  },
  "language_info": {
   "codemirror_mode": {
    "name": "ipython",
    "version": 2
   },
   "file_extension": ".py",
   "mimetype": "text/x-python",
   "name": "python",
   "nbconvert_exporter": "python",
   "pygments_lexer": "ipython2",
   "version": "2.7.6"
  }
 },
 "nbformat": 4,
 "nbformat_minor": 0
}
